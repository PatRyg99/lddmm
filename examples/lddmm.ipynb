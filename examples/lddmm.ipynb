{
 "cells": [
  {
   "cell_type": "code",
   "execution_count": 1,
   "metadata": {},
   "outputs": [
    {
     "name": "stdout",
     "output_type": "stream",
     "text": [
      "[KeOps] Warning : omp.h header is not in the path, disabling OpenMP. To fix this, you can set the environment\n",
      "                  variable OMP_PATH to the location of the header before importing keopscore or pykeops,\n",
      "                  e.g. using os.environ: import os; os.environ['OMP_PATH'] = '/path/to/omp/header'\n",
      "[KeOps] Warning : Cuda libraries were not detected on the system or could not be loaded ; using cpu only mode\n"
     ]
    }
   ],
   "source": [
    "import pyvista as pv\n",
    "from src.lddmm.registrator import LDDMMRegistrator"
   ]
  },
  {
   "cell_type": "code",
   "execution_count": 2,
   "metadata": {},
   "outputs": [
    {
     "name": "stdout",
     "output_type": "stream",
     "text": [
      "(2838, 3)\n",
      "(3526, 3)\n"
     ]
    },
    {
     "data": {
      "application/vnd.jupyter.widget-view+json": {
       "model_id": "708d9a03743746a59037e17530f764b7",
       "version_major": 2,
       "version_minor": 0
      },
      "text/plain": [
       "Widget(value='<iframe src=\"http://localhost:62523/index.html?ui=P_0x2d3d42010_0&reconnect=auto\" class=\"pyvista…"
      ]
     },
     "metadata": {},
     "output_type": "display_data"
    }
   ],
   "source": [
    "source_mesh = pv.read(\"/Users/patrykrygiel/Documents/UTWENTE/Datasets/AAA/BAEK/meshes/P20_20080212_0000/full.vtp\").decimate(0.95)\n",
    "target_mesh = pv.read(\"/Users/patrykrygiel/Documents/UTWENTE/Datasets/AAA/BAEK/meshes/P20_20110310_0000/full.vtp\").decimate(0.95)\n",
    "\n",
    "source_mesh.points -= source_mesh.points.mean(axis=0)\n",
    "target_mesh.points -= target_mesh.points.mean(axis=0)\n",
    "\n",
    "print(source_mesh.points.shape)\n",
    "print(target_mesh.points.shape)\n",
    "\n",
    "pl = pv.Plotter()\n",
    "pl.add_mesh(source_mesh, color=\"green\", opacity=0.5)\n",
    "pl.add_mesh(target_mesh, color=\"red\", opacity=0.5)\n",
    "pl.show()"
   ]
  },
  {
   "cell_type": "code",
   "execution_count": 3,
   "metadata": {},
   "outputs": [
    {
     "data": {
      "application/vnd.jupyter.widget-view+json": {
       "model_id": "8e3d64c6839a4497b475b4bf4e7c9391",
       "version_major": 2,
       "version_minor": 0
      },
      "text/plain": [
       "  0%|          | 0/2 [00:00<?, ?it/s]"
      ]
     },
     "metadata": {},
     "output_type": "display_data"
    }
   ],
   "source": [
    "registrator = LDDMMRegistrator(source_mesh, target_mesh, sigma=20, device=\"cpu\")\n",
    "registrator.optimize(2)\n",
    "registrator.export_shoot(\"shots\", nt=15, deltat=1.5)"
   ]
  },
  {
   "cell_type": "code",
   "execution_count": 5,
   "metadata": {},
   "outputs": [],
   "source": [
    "registrator.export_shoot(\"shots\", nt=30, deltat=3.0)"
   ]
  }
 ],
 "metadata": {
  "kernelspec": {
   "display_name": "virtu-stent",
   "language": "python",
   "name": "python3"
  },
  "language_info": {
   "codemirror_mode": {
    "name": "ipython",
    "version": 3
   },
   "file_extension": ".py",
   "mimetype": "text/x-python",
   "name": "python",
   "nbconvert_exporter": "python",
   "pygments_lexer": "ipython3",
   "version": "3.11.7"
  }
 },
 "nbformat": 4,
 "nbformat_minor": 2
}
