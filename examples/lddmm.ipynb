{
 "cells": [
  {
   "cell_type": "code",
   "execution_count": 1,
   "metadata": {},
   "outputs": [],
   "source": [
    "import os, glob\n",
    "from typing import List\n",
    "os.chdir(\"/home/rygielpt/lddmm\")\n",
    "\n",
    "import pyvista as pv\n",
    "import pandas as pd\n",
    "from src.lddmm.registrator import LDDMMRegistrator"
   ]
  },
  {
   "cell_type": "code",
   "execution_count": 2,
   "metadata": {},
   "outputs": [],
   "source": [
    "class LongitudinalSample:\n",
    "    def __init__(self, root_dir: str, name: str):\n",
    "        self.root_dir = root_dir\n",
    "        self.name = name\n",
    "        self.data = self._assemble_dataframe()\n",
    "\n",
    "        self.registrator = None\n",
    "\n",
    "    def _assemble_dataframe(self):\n",
    "        def _parse_date(filepath: str):\n",
    "            raw_date = filepath.split(\"/\")[-2].split(\"_\")[1]\n",
    "            return pd.to_datetime(f\"{raw_date[:4]}-{raw_date[4:6]}-{raw_date[6:8]}\")\n",
    "\n",
    "        data = pd.DataFrame(\n",
    "            [\n",
    "                (_parse_date(file), file) \n",
    "                for file in sorted(glob.glob(os.path.join(self.root_dir, f\"{self.name}*\", \"full.vtp\")))\n",
    "            ],\n",
    "            columns=[\"date\", \"path\"]\n",
    "        )\n",
    "        data[\"days\"] = (data[\"date\"] - data.iloc[0][\"date\"]).dt.days\n",
    "        return data\n",
    "    \n",
    "    def fit_LMMDD(\n",
    "        self, \n",
    "        source_t: int = 0, \n",
    "        target_ts: List[int] = [-1], \n",
    "        centralize: bool = True,\n",
    "        optimizer_iters: int = 10, \n",
    "        ode_steps: int = 10, \n",
    "        sigma: float = 20,\n",
    "        device: str = \"cpu\"\n",
    "    ):\n",
    "        # Load source mesh\n",
    "        source_days, source_file = self.data.iloc[source_t][[\"days\", \"path\"]]\n",
    "        source_mesh = pv.read(source_file)\n",
    "\n",
    "        # Load target meshes\n",
    "        target_dict = {\n",
    "            self.data.iloc[i][\"days\"] - source_days: pv.read(self.data.iloc[i][\"path\"]) for i in target_ts\n",
    "        }\n",
    "        target_dict = {\n",
    "            round(ode_steps * t / max(target_dict.keys())): mesh for t, mesh in target_dict.items()\n",
    "        }\n",
    "\n",
    "        # Rigid centralization\n",
    "        if centralize:\n",
    "            source_mesh.points -= source_mesh.points.mean(axis=0)\n",
    "            \n",
    "            for k in target_dict.keys():\n",
    "                target_dict[k].points -= target_dict[k].points.mean(axis=0)\n",
    "\n",
    "        # Optimize\n",
    "        self.registrator = LDDMMRegistrator(source_mesh, target_dict, sigma=sigma, device=device)\n",
    "        self.registrator.optimize(optimizer_iters, ode_steps)\n",
    "\n",
    "    def infer_LMMDD(self, output_dir: str, steps: int = 15, deltat: int = 1.0):\n",
    "        self.registrator.export_shoot(output_dir, nt=steps, deltat=deltat)"
   ]
  },
  {
   "cell_type": "code",
   "execution_count": 3,
   "metadata": {},
   "outputs": [
    {
     "data": {
      "text/html": [
       "<div>\n",
       "<style scoped>\n",
       "    .dataframe tbody tr th:only-of-type {\n",
       "        vertical-align: middle;\n",
       "    }\n",
       "\n",
       "    .dataframe tbody tr th {\n",
       "        vertical-align: top;\n",
       "    }\n",
       "\n",
       "    .dataframe thead th {\n",
       "        text-align: right;\n",
       "    }\n",
       "</style>\n",
       "<table border=\"1\" class=\"dataframe\">\n",
       "  <thead>\n",
       "    <tr style=\"text-align: right;\">\n",
       "      <th></th>\n",
       "      <th>date</th>\n",
       "      <th>path</th>\n",
       "      <th>days</th>\n",
       "    </tr>\n",
       "  </thead>\n",
       "  <tbody>\n",
       "    <tr>\n",
       "      <th>0</th>\n",
       "      <td>2008-02-12</td>\n",
       "      <td>/home/rygielpt/data/lddmm/cases/P20_20080212_0...</td>\n",
       "      <td>0</td>\n",
       "    </tr>\n",
       "    <tr>\n",
       "      <th>1</th>\n",
       "      <td>2008-07-28</td>\n",
       "      <td>/home/rygielpt/data/lddmm/cases/P20_20080728_0...</td>\n",
       "      <td>167</td>\n",
       "    </tr>\n",
       "    <tr>\n",
       "      <th>2</th>\n",
       "      <td>2009-01-19</td>\n",
       "      <td>/home/rygielpt/data/lddmm/cases/P20_20090119_0...</td>\n",
       "      <td>342</td>\n",
       "    </tr>\n",
       "    <tr>\n",
       "      <th>3</th>\n",
       "      <td>2010-01-21</td>\n",
       "      <td>/home/rygielpt/data/lddmm/cases/P20_20100121_0...</td>\n",
       "      <td>709</td>\n",
       "    </tr>\n",
       "    <tr>\n",
       "      <th>4</th>\n",
       "      <td>2010-04-12</td>\n",
       "      <td>/home/rygielpt/data/lddmm/cases/P20_20100412_0...</td>\n",
       "      <td>790</td>\n",
       "    </tr>\n",
       "    <tr>\n",
       "      <th>5</th>\n",
       "      <td>2011-03-10</td>\n",
       "      <td>/home/rygielpt/data/lddmm/cases/P20_20110310_0...</td>\n",
       "      <td>1122</td>\n",
       "    </tr>\n",
       "  </tbody>\n",
       "</table>\n",
       "</div>"
      ],
      "text/plain": [
       "        date                                               path  days\n",
       "0 2008-02-12  /home/rygielpt/data/lddmm/cases/P20_20080212_0...     0\n",
       "1 2008-07-28  /home/rygielpt/data/lddmm/cases/P20_20080728_0...   167\n",
       "2 2009-01-19  /home/rygielpt/data/lddmm/cases/P20_20090119_0...   342\n",
       "3 2010-01-21  /home/rygielpt/data/lddmm/cases/P20_20100121_0...   709\n",
       "4 2010-04-12  /home/rygielpt/data/lddmm/cases/P20_20100412_0...   790\n",
       "5 2011-03-10  /home/rygielpt/data/lddmm/cases/P20_20110310_0...  1122"
      ]
     },
     "execution_count": 3,
     "metadata": {},
     "output_type": "execute_result"
    }
   ],
   "source": [
    "root_dir = \"/home/rygielpt/data/lddmm/cases\"\n",
    "patient_id = \"P20\"\n",
    "\n",
    "sample = LongitudinalSample(root_dir, patient_id)\n",
    "sample.data"
   ]
  },
  {
   "cell_type": "code",
   "execution_count": 5,
   "metadata": {},
   "outputs": [
    {
     "data": {
      "application/vnd.jupyter.widget-view+json": {
       "model_id": "5ccba6fa694440398ae4a28ed1403716",
       "version_major": 2,
       "version_minor": 0
      },
      "text/plain": [
       "  0%|          | 0/10 [00:00<?, ?it/s]"
      ]
     },
     "metadata": {},
     "output_type": "display_data"
    },
    {
     "name": "stdout",
     "output_type": "stream",
     "text": [
      "(tensor([[0., 0., 0.],\n",
      "        [0., 0., 0.],\n",
      "        [0., 0., 0.],\n",
      "        ...,\n",
      "        [0., 0., 0.],\n",
      "        [0., 0., 0.],\n",
      "        [0., 0., 0.]], device='cuda:0', grad_fn=<AddBackward0>), tensor([[ -52.1407,   -6.5834, -106.4847],\n",
      "        [ -51.8550,   -7.0500, -106.7916],\n",
      "        [ -51.9609,   -6.6429, -107.1332],\n",
      "        ...,\n",
      "        [  36.2651,  -12.7491,   -8.8782],\n",
      "        [  36.2707,  -12.6420,   -7.3344],\n",
      "        [  36.2899,  -12.7669,   -6.5373]], device='cuda:0',\n",
      "       grad_fn=<AddBackward0>))\n",
      "tensor([[ -52.1407,   -6.5834, -106.4847],\n",
      "        [ -51.8550,   -7.0500, -106.7916],\n",
      "        [ -51.9609,   -6.6429, -107.1332],\n",
      "        ...,\n",
      "        [  36.2651,  -12.7491,   -8.8782],\n",
      "        [  36.2707,  -12.6420,   -7.3344],\n",
      "        [  36.2899,  -12.7669,   -6.5373]], device='cuda:0',\n",
      "       grad_fn=<AddBackward0>)\n"
     ]
    },
    {
     "ename": "RuntimeError",
     "evalue": "zero-dimensional tensor (at position 0) cannot be concatenated",
     "output_type": "error",
     "traceback": [
      "\u001b[0;31m---------------------------------------------------------------------------\u001b[0m",
      "\u001b[0;31mRuntimeError\u001b[0m                              Traceback (most recent call last)",
      "Cell \u001b[0;32mIn[5], line 1\u001b[0m\n\u001b[0;32m----> 1\u001b[0m \u001b[43msample\u001b[49m\u001b[38;5;241;43m.\u001b[39;49m\u001b[43mfit_LMMDD\u001b[49m\u001b[43m(\u001b[49m\u001b[38;5;241;43m0\u001b[39;49m\u001b[43m,\u001b[49m\u001b[43m \u001b[49m\u001b[43m[\u001b[49m\u001b[38;5;241;43m-\u001b[39;49m\u001b[38;5;241;43m2\u001b[39;49m\u001b[43m,\u001b[49m\u001b[43m \u001b[49m\u001b[38;5;241;43m-\u001b[39;49m\u001b[38;5;241;43m1\u001b[39;49m\u001b[43m]\u001b[49m\u001b[43m,\u001b[49m\u001b[43m \u001b[49m\u001b[43mdevice\u001b[49m\u001b[38;5;241;43m=\u001b[39;49m\u001b[38;5;124;43m\"\u001b[39;49m\u001b[38;5;124;43mcuda\u001b[39;49m\u001b[38;5;124;43m\"\u001b[39;49m\u001b[43m)\u001b[49m\n",
      "Cell \u001b[0;32mIn[2], line 55\u001b[0m, in \u001b[0;36mLongitudinalSample.fit_LMMDD\u001b[0;34m(self, source_t, target_ts, centralize, optimizer_iters, ode_steps, sigma, device)\u001b[0m\n\u001b[1;32m     53\u001b[0m \u001b[38;5;66;03m# Optimize\u001b[39;00m\n\u001b[1;32m     54\u001b[0m \u001b[38;5;28mself\u001b[39m\u001b[38;5;241m.\u001b[39mregistrator \u001b[38;5;241m=\u001b[39m LDDMMRegistrator(source_mesh, target_dict, sigma\u001b[38;5;241m=\u001b[39msigma, device\u001b[38;5;241m=\u001b[39mdevice)\n\u001b[0;32m---> 55\u001b[0m \u001b[38;5;28;43mself\u001b[39;49m\u001b[38;5;241;43m.\u001b[39;49m\u001b[43mregistrator\u001b[49m\u001b[38;5;241;43m.\u001b[39;49m\u001b[43moptimize\u001b[49m\u001b[43m(\u001b[49m\u001b[43moptimizer_iters\u001b[49m\u001b[43m,\u001b[49m\u001b[43m \u001b[49m\u001b[43mode_steps\u001b[49m\u001b[43m)\u001b[49m\n",
      "File \u001b[0;32m~/lddmm/src/lddmm/registrator.py:71\u001b[0m, in \u001b[0;36mLDDMMRegistrator.optimize\u001b[0;34m(self, iters, ode_steps)\u001b[0m\n\u001b[1;32m     68\u001b[0m     \u001b[38;5;28;01mreturn\u001b[39;00m L\n\u001b[1;32m     70\u001b[0m \u001b[38;5;28;01mfor\u001b[39;00m _ \u001b[38;5;129;01min\u001b[39;00m \u001b[38;5;28mrange\u001b[39m(iters):\n\u001b[0;32m---> 71\u001b[0m     \u001b[38;5;28;43mself\u001b[39;49m\u001b[38;5;241;43m.\u001b[39;49m\u001b[43moptimizer\u001b[49m\u001b[38;5;241;43m.\u001b[39;49m\u001b[43mstep\u001b[49m\u001b[43m(\u001b[49m\u001b[43mclosure\u001b[49m\u001b[43m)\u001b[49m\n\u001b[1;32m     72\u001b[0m     pbar\u001b[38;5;241m.\u001b[39mupdate(\u001b[38;5;241m1\u001b[39m)\n",
      "File \u001b[0;32m~/miniconda3/envs/vascul-aid/lib/python3.11/site-packages/torch/optim/optimizer.py:391\u001b[0m, in \u001b[0;36mOptimizer.profile_hook_step.<locals>.wrapper\u001b[0;34m(*args, **kwargs)\u001b[0m\n\u001b[1;32m    386\u001b[0m         \u001b[38;5;28;01melse\u001b[39;00m:\n\u001b[1;32m    387\u001b[0m             \u001b[38;5;28;01mraise\u001b[39;00m \u001b[38;5;167;01mRuntimeError\u001b[39;00m(\n\u001b[1;32m    388\u001b[0m                 \u001b[38;5;124mf\u001b[39m\u001b[38;5;124m\"\u001b[39m\u001b[38;5;132;01m{\u001b[39;00mfunc\u001b[38;5;132;01m}\u001b[39;00m\u001b[38;5;124m must return None or a tuple of (new_args, new_kwargs), but got \u001b[39m\u001b[38;5;132;01m{\u001b[39;00mresult\u001b[38;5;132;01m}\u001b[39;00m\u001b[38;5;124m.\u001b[39m\u001b[38;5;124m\"\u001b[39m\n\u001b[1;32m    389\u001b[0m             )\n\u001b[0;32m--> 391\u001b[0m out \u001b[38;5;241m=\u001b[39m \u001b[43mfunc\u001b[49m\u001b[43m(\u001b[49m\u001b[38;5;241;43m*\u001b[39;49m\u001b[43margs\u001b[49m\u001b[43m,\u001b[49m\u001b[43m \u001b[49m\u001b[38;5;241;43m*\u001b[39;49m\u001b[38;5;241;43m*\u001b[39;49m\u001b[43mkwargs\u001b[49m\u001b[43m)\u001b[49m\n\u001b[1;32m    392\u001b[0m \u001b[38;5;28mself\u001b[39m\u001b[38;5;241m.\u001b[39m_optimizer_step_code()\n\u001b[1;32m    394\u001b[0m \u001b[38;5;66;03m# call optimizer step post hooks\u001b[39;00m\n",
      "File \u001b[0;32m~/miniconda3/envs/vascul-aid/lib/python3.11/site-packages/torch/utils/_contextlib.py:115\u001b[0m, in \u001b[0;36mcontext_decorator.<locals>.decorate_context\u001b[0;34m(*args, **kwargs)\u001b[0m\n\u001b[1;32m    112\u001b[0m \u001b[38;5;129m@functools\u001b[39m\u001b[38;5;241m.\u001b[39mwraps(func)\n\u001b[1;32m    113\u001b[0m \u001b[38;5;28;01mdef\u001b[39;00m \u001b[38;5;21mdecorate_context\u001b[39m(\u001b[38;5;241m*\u001b[39margs, \u001b[38;5;241m*\u001b[39m\u001b[38;5;241m*\u001b[39mkwargs):\n\u001b[1;32m    114\u001b[0m     \u001b[38;5;28;01mwith\u001b[39;00m ctx_factory():\n\u001b[0;32m--> 115\u001b[0m         \u001b[38;5;28;01mreturn\u001b[39;00m \u001b[43mfunc\u001b[49m\u001b[43m(\u001b[49m\u001b[38;5;241;43m*\u001b[39;49m\u001b[43margs\u001b[49m\u001b[43m,\u001b[49m\u001b[43m \u001b[49m\u001b[38;5;241;43m*\u001b[39;49m\u001b[38;5;241;43m*\u001b[39;49m\u001b[43mkwargs\u001b[49m\u001b[43m)\u001b[49m\n",
      "File \u001b[0;32m~/miniconda3/envs/vascul-aid/lib/python3.11/site-packages/torch/optim/lbfgs.py:319\u001b[0m, in \u001b[0;36mLBFGS.step\u001b[0;34m(self, closure)\u001b[0m\n\u001b[1;32m    316\u001b[0m state\u001b[38;5;241m.\u001b[39msetdefault(\u001b[38;5;124m'\u001b[39m\u001b[38;5;124mn_iter\u001b[39m\u001b[38;5;124m'\u001b[39m, \u001b[38;5;241m0\u001b[39m)\n\u001b[1;32m    318\u001b[0m \u001b[38;5;66;03m# evaluate initial f(x) and df/dx\u001b[39;00m\n\u001b[0;32m--> 319\u001b[0m orig_loss \u001b[38;5;241m=\u001b[39m \u001b[43mclosure\u001b[49m\u001b[43m(\u001b[49m\u001b[43m)\u001b[49m\n\u001b[1;32m    320\u001b[0m loss \u001b[38;5;241m=\u001b[39m \u001b[38;5;28mfloat\u001b[39m(orig_loss)\n\u001b[1;32m    321\u001b[0m current_evals \u001b[38;5;241m=\u001b[39m \u001b[38;5;241m1\u001b[39m\n",
      "File \u001b[0;32m~/miniconda3/envs/vascul-aid/lib/python3.11/site-packages/torch/utils/_contextlib.py:115\u001b[0m, in \u001b[0;36mcontext_decorator.<locals>.decorate_context\u001b[0;34m(*args, **kwargs)\u001b[0m\n\u001b[1;32m    112\u001b[0m \u001b[38;5;129m@functools\u001b[39m\u001b[38;5;241m.\u001b[39mwraps(func)\n\u001b[1;32m    113\u001b[0m \u001b[38;5;28;01mdef\u001b[39;00m \u001b[38;5;21mdecorate_context\u001b[39m(\u001b[38;5;241m*\u001b[39margs, \u001b[38;5;241m*\u001b[39m\u001b[38;5;241m*\u001b[39mkwargs):\n\u001b[1;32m    114\u001b[0m     \u001b[38;5;28;01mwith\u001b[39;00m ctx_factory():\n\u001b[0;32m--> 115\u001b[0m         \u001b[38;5;28;01mreturn\u001b[39;00m \u001b[43mfunc\u001b[49m\u001b[43m(\u001b[49m\u001b[38;5;241;43m*\u001b[39;49m\u001b[43margs\u001b[49m\u001b[43m,\u001b[49m\u001b[43m \u001b[49m\u001b[38;5;241;43m*\u001b[39;49m\u001b[38;5;241;43m*\u001b[39;49m\u001b[43mkwargs\u001b[49m\u001b[43m)\u001b[49m\n",
      "File \u001b[0;32m~/lddmm/src/lddmm/registrator.py:65\u001b[0m, in \u001b[0;36mLDDMMRegistrator.optimize.<locals>.closure\u001b[0;34m()\u001b[0m\n\u001b[1;32m     63\u001b[0m \u001b[38;5;28;01mdef\u001b[39;00m \u001b[38;5;21mclosure\u001b[39m():\n\u001b[1;32m     64\u001b[0m     \u001b[38;5;28mself\u001b[39m\u001b[38;5;241m.\u001b[39moptimizer\u001b[38;5;241m.\u001b[39mzero_grad()\n\u001b[0;32m---> 65\u001b[0m     L \u001b[38;5;241m=\u001b[39m \u001b[38;5;28;43mself\u001b[39;49m\u001b[38;5;241;43m.\u001b[39;49m\u001b[43mloss\u001b[49m\u001b[43m(\u001b[49m\u001b[38;5;28;43mself\u001b[39;49m\u001b[38;5;241;43m.\u001b[39;49m\u001b[43mp0\u001b[49m\u001b[43m,\u001b[49m\u001b[43m \u001b[49m\u001b[38;5;28;43mself\u001b[39;49m\u001b[38;5;241;43m.\u001b[39;49m\u001b[43mq0\u001b[49m\u001b[43m,\u001b[49m\u001b[43m \u001b[49m\u001b[43mode_steps\u001b[49m\u001b[43m)\u001b[49m\n\u001b[1;32m     66\u001b[0m     L\u001b[38;5;241m.\u001b[39mbackward()\n\u001b[1;32m     67\u001b[0m     pbar\u001b[38;5;241m.\u001b[39mset_postfix({\u001b[38;5;124m\"\u001b[39m\u001b[38;5;124mloss\u001b[39m\u001b[38;5;124m\"\u001b[39m: L\u001b[38;5;241m.\u001b[39mitem()})\n",
      "File \u001b[0;32m~/lddmm/src/lddmm/loss.py:60\u001b[0m, in \u001b[0;36mMultiLDDMMLoss.__call__\u001b[0;34m(self, p0, q0, nt)\u001b[0m\n\u001b[1;32m     58\u001b[0m \u001b[38;5;28mprint\u001b[39m(shots[\u001b[38;5;241m-\u001b[39m\u001b[38;5;241m1\u001b[39m])\n\u001b[1;32m     59\u001b[0m \u001b[38;5;28mprint\u001b[39m(shots[\u001b[38;5;241m-\u001b[39m\u001b[38;5;241m1\u001b[39m][\u001b[38;5;241m1\u001b[39m])\n\u001b[0;32m---> 60\u001b[0m dataloss_mean \u001b[38;5;241m=\u001b[39m \u001b[43mtorch\u001b[49m\u001b[38;5;241;43m.\u001b[39;49m\u001b[43mcat\u001b[49m\u001b[43m(\u001b[49m\u001b[43m[\u001b[49m\u001b[43mdataloss\u001b[49m\u001b[43m(\u001b[49m\u001b[43mshots\u001b[49m\u001b[43m[\u001b[49m\u001b[43mt\u001b[49m\u001b[43m]\u001b[49m\u001b[43m[\u001b[49m\u001b[38;5;241;43m1\u001b[39;49m\u001b[43m]\u001b[49m\u001b[43m)\u001b[49m\u001b[43m \u001b[49m\u001b[38;5;28;43;01mfor\u001b[39;49;00m\u001b[43m \u001b[49m\u001b[43mt\u001b[49m\u001b[43m,\u001b[49m\u001b[43m \u001b[49m\u001b[43mdataloss\u001b[49m\u001b[43m \u001b[49m\u001b[38;5;129;43;01min\u001b[39;49;00m\u001b[43m \u001b[49m\u001b[38;5;28;43mself\u001b[39;49m\u001b[38;5;241;43m.\u001b[39;49m\u001b[43mdatalosses\u001b[49m\u001b[38;5;241;43m.\u001b[39;49m\u001b[43mitems\u001b[49m\u001b[43m(\u001b[49m\u001b[43m)\u001b[49m\u001b[43m]\u001b[49m\u001b[43m)\u001b[49m\u001b[38;5;241m.\u001b[39mmean()\n\u001b[1;32m     61\u001b[0m \u001b[38;5;28;01mreturn\u001b[39;00m \u001b[38;5;28mself\u001b[39m\u001b[38;5;241m.\u001b[39mgamma \u001b[38;5;241m*\u001b[39m \u001b[38;5;28mself\u001b[39m\u001b[38;5;241m.\u001b[39mintegrator\u001b[38;5;241m.\u001b[39mode_system\u001b[38;5;241m.\u001b[39mbase(p0, q0) \u001b[38;5;241m+\u001b[39m dataloss_mean\n",
      "\u001b[0;31mRuntimeError\u001b[0m: zero-dimensional tensor (at position 0) cannot be concatenated"
     ]
    }
   ],
   "source": [
    "sample.fit_LMMDD(0, [-2, -1], device=\"cuda\")"
   ]
  }
 ],
 "metadata": {
  "kernelspec": {
   "display_name": "virtu-stent",
   "language": "python",
   "name": "python3"
  },
  "language_info": {
   "codemirror_mode": {
    "name": "ipython",
    "version": 3
   },
   "file_extension": ".py",
   "mimetype": "text/x-python",
   "name": "python",
   "nbconvert_exporter": "python",
   "pygments_lexer": "ipython3",
   "version": "3.11.9"
  }
 },
 "nbformat": 4,
 "nbformat_minor": 2
}
