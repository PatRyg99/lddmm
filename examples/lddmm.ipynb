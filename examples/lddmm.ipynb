{
 "cells": [
  {
   "cell_type": "code",
   "execution_count": 1,
   "metadata": {},
   "outputs": [
    {
     "name": "stdout",
     "output_type": "stream",
     "text": [
      "[KeOps] Warning : Cuda libraries were not detected on the system or could not be loaded ; using cpu only mode\n"
     ]
    }
   ],
   "source": [
    "import os, glob\n",
    "from typing import List\n",
    "os.chdir(\"/home/rygielpt/lddmm\")\n",
    "\n",
    "import pyvista as pv\n",
    "import pandas as pd\n",
    "from src.lddmm.registrator import LDDMMRegistrator"
   ]
  },
  {
   "cell_type": "code",
   "execution_count": 2,
   "metadata": {},
   "outputs": [],
   "source": [
    "class LongitudinalSample:\n",
    "    def __init__(self, root_dir: str, name: str):\n",
    "        self.root_dir = root_dir\n",
    "        self.name = name\n",
    "        self.data = self._assemble_dataframe()\n",
    "\n",
    "        self.registrator = None\n",
    "\n",
    "    def _assemble_dataframe(self):\n",
    "        def _parse_date(filepath: str):\n",
    "            raw_date = filepath.split(\"/\")[-2].split(\"_\")[1]\n",
    "            return pd.to_datetime(f\"{raw_date[:4]}-{raw_date[4:6]}-{raw_date[6:8]}\")\n",
    "\n",
    "        data = pd.DataFrame(\n",
    "            [\n",
    "                (_parse_date(file), file) \n",
    "                for file in sorted(glob.glob(os.path.join(self.root_dir, f\"{self.name}*\", \"full.vtp\")))\n",
    "            ],\n",
    "            columns=[\"date\", \"path\"]\n",
    "        )\n",
    "        data[\"days\"] = (data[\"date\"] - data.iloc[0][\"date\"]).dt.days\n",
    "        return data\n",
    "    \n",
    "    def fit_LMMDD(\n",
    "        self, \n",
    "        source_t: int = 0, \n",
    "        target_ts: List[int] = [-1], \n",
    "        centralize: bool = True,\n",
    "        optimizer_iters: int = 10, \n",
    "        ode_steps: int = 10, \n",
    "        sigma: float = 20,\n",
    "        device: str = \"cpu\"\n",
    "    ):\n",
    "        # Load source mesh\n",
    "        source_days, source_file = self.data.iloc[source_t][[\"days\", \"path\"]]\n",
    "        source_mesh = pv.read(source_file)\n",
    "\n",
    "        # Load target meshes\n",
    "        target_dict = {\n",
    "            self.data.iloc[i][\"days\"] - source_days: pv.read(self.data.iloc[i][\"path\"]) for i in target_ts\n",
    "        }\n",
    "        target_dict = {\n",
    "            round(ode_steps * t / max(target_dict.keys())): mesh for t, mesh in target_dict.items()\n",
    "        }\n",
    "\n",
    "        # Rigid centralization\n",
    "        if centralize:\n",
    "            source_mesh.points -= source_mesh.points.mean(axis=0)\n",
    "            \n",
    "            for k in target_dict.keys():\n",
    "                target_dict[k].points -= target_dict[k].points.mean(axis=0)\n",
    "\n",
    "        # Optimize\n",
    "        self.registrator = LDDMMRegistrator(source_mesh, target_dict, sigma=sigma, device=device)\n",
    "        self.registrator.optimize(optimizer_iters, ode_steps)\n",
    "\n",
    "    def infer_LMMDD(self, output_dir: str, steps: int = 15, deltat: int = 1.0):\n",
    "        self.registrator.export_shoot(output_dir, nt=steps, deltat=deltat)"
   ]
  },
  {
   "cell_type": "code",
   "execution_count": 3,
   "metadata": {},
   "outputs": [
    {
     "data": {
      "text/html": [
       "<div>\n",
       "<style scoped>\n",
       "    .dataframe tbody tr th:only-of-type {\n",
       "        vertical-align: middle;\n",
       "    }\n",
       "\n",
       "    .dataframe tbody tr th {\n",
       "        vertical-align: top;\n",
       "    }\n",
       "\n",
       "    .dataframe thead th {\n",
       "        text-align: right;\n",
       "    }\n",
       "</style>\n",
       "<table border=\"1\" class=\"dataframe\">\n",
       "  <thead>\n",
       "    <tr style=\"text-align: right;\">\n",
       "      <th></th>\n",
       "      <th>date</th>\n",
       "      <th>path</th>\n",
       "      <th>days</th>\n",
       "    </tr>\n",
       "  </thead>\n",
       "  <tbody>\n",
       "    <tr>\n",
       "      <th>0</th>\n",
       "      <td>2008-02-12</td>\n",
       "      <td>/home/rygielpt/datasets/BAEK/meshes/P20_200802...</td>\n",
       "      <td>0</td>\n",
       "    </tr>\n",
       "    <tr>\n",
       "      <th>1</th>\n",
       "      <td>2008-07-28</td>\n",
       "      <td>/home/rygielpt/datasets/BAEK/meshes/P20_200807...</td>\n",
       "      <td>167</td>\n",
       "    </tr>\n",
       "    <tr>\n",
       "      <th>2</th>\n",
       "      <td>2009-01-19</td>\n",
       "      <td>/home/rygielpt/datasets/BAEK/meshes/P20_200901...</td>\n",
       "      <td>342</td>\n",
       "    </tr>\n",
       "    <tr>\n",
       "      <th>3</th>\n",
       "      <td>2010-01-21</td>\n",
       "      <td>/home/rygielpt/datasets/BAEK/meshes/P20_201001...</td>\n",
       "      <td>709</td>\n",
       "    </tr>\n",
       "    <tr>\n",
       "      <th>4</th>\n",
       "      <td>2010-04-12</td>\n",
       "      <td>/home/rygielpt/datasets/BAEK/meshes/P20_201004...</td>\n",
       "      <td>790</td>\n",
       "    </tr>\n",
       "    <tr>\n",
       "      <th>5</th>\n",
       "      <td>2011-03-10</td>\n",
       "      <td>/home/rygielpt/datasets/BAEK/meshes/P20_201103...</td>\n",
       "      <td>1122</td>\n",
       "    </tr>\n",
       "  </tbody>\n",
       "</table>\n",
       "</div>"
      ],
      "text/plain": [
       "        date                                               path  days\n",
       "0 2008-02-12  /home/rygielpt/datasets/BAEK/meshes/P20_200802...     0\n",
       "1 2008-07-28  /home/rygielpt/datasets/BAEK/meshes/P20_200807...   167\n",
       "2 2009-01-19  /home/rygielpt/datasets/BAEK/meshes/P20_200901...   342\n",
       "3 2010-01-21  /home/rygielpt/datasets/BAEK/meshes/P20_201001...   709\n",
       "4 2010-04-12  /home/rygielpt/datasets/BAEK/meshes/P20_201004...   790\n",
       "5 2011-03-10  /home/rygielpt/datasets/BAEK/meshes/P20_201103...  1122"
      ]
     },
     "execution_count": 3,
     "metadata": {},
     "output_type": "execute_result"
    }
   ],
   "source": [
    "root_dir = \"/home/rygielpt/datasets/BAEK/meshes\"\n",
    "patient_id = \"P20\"\n",
    "\n",
    "sample = LongitudinalSample(root_dir, patient_id)\n",
    "sample.data"
   ]
  },
  {
   "cell_type": "code",
   "execution_count": 4,
   "metadata": {},
   "outputs": [
    {
     "name": "stdout",
     "output_type": "stream",
     "text": [
      "[KeOps] Generating code for Sum_Reduction reduction (with parameters 0) of formula ((c|d)**2*e)*Exp(-(Sum((a-b)**2)*f)) with a=Var(0,3,0), b=Var(1,3,1), c=Var(2,3,0), d=Var(3,3,1), e=Var(4,1,1), f=Var(5,1,2) ... OK\n",
      "[pyKeOps] Compiling pykeops cpp fa37694969 module ... OK\n"
     ]
    },
    {
     "ename": "",
     "evalue": "",
     "output_type": "error",
     "traceback": [
      "\u001b[1;31mThe Kernel crashed while executing code in the current cell or a previous cell. \n",
      "\u001b[1;31mPlease review the code in the cell(s) to identify a possible cause of the failure. \n",
      "\u001b[1;31mClick <a href='https://aka.ms/vscodeJupyterKernelCrash'>here</a> for more info. \n",
      "\u001b[1;31mView Jupyter <a href='command:jupyter.viewOutput'>log</a> for further details."
     ]
    }
   ],
   "source": [
    "sample.fit_LMMDD(0, [-1], device=\"cuda\")"
   ]
  }
 ],
 "metadata": {
  "kernelspec": {
   "display_name": "virtu-stent",
   "language": "python",
   "name": "python3"
  },
  "language_info": {
   "codemirror_mode": {
    "name": "ipython",
    "version": 3
   },
   "file_extension": ".py",
   "mimetype": "text/x-python",
   "name": "python",
   "nbconvert_exporter": "python",
   "pygments_lexer": "ipython3",
   "version": "3.11.5"
  }
 },
 "nbformat": 4,
 "nbformat_minor": 2
}
